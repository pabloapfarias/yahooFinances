{
 "cells": [
  {
   "metadata": {},
   "cell_type": "markdown",
   "source": "# Calculadora de Retorno CDI",
   "id": "f5591d08634994d4"
  },
  {
   "cell_type": "code",
   "id": "initial_id",
   "metadata": {
    "collapsed": true,
    "ExecuteTime": {
     "end_time": "2024-09-10T16:46:54.062986Z",
     "start_time": "2024-09-10T16:46:54.058801Z"
    }
   },
   "source": [
    "#Instalação de Pacotes e importação\n",
    "#!pip install python-bcb\n",
    "\n",
    "from datetime import datetime, date\n",
    "from matplotlib import pyplot as plt\n",
    "import numpy as np\n",
    "from bcb import sgs\n"
   ],
   "outputs": [],
   "execution_count": 26
  },
  {
   "metadata": {
    "ExecuteTime": {
     "end_time": "2024-09-10T16:47:24.915876Z",
     "start_time": "2024-09-10T16:46:54.070996Z"
    }
   },
   "cell_type": "code",
   "source": [
    "capital = float(input(\"Digite o capital investido: \"))\n",
    "frequencia = input(\"Digite a frequência do periodo (Y, M, D): \")\n",
    "inicio = input('Digite a data inicial maior que 1995/01/01 no formato YYYY/MM/DD: ')\n",
    "final = input('Digite a data final no seguinte formato YYYY/MM/DD: ')"
   ],
   "id": "47a9ebc87a3c8955",
   "outputs": [],
   "execution_count": 27
  },
  {
   "metadata": {
    "ExecuteTime": {
     "end_time": "2024-09-10T16:47:24.940913Z",
     "start_time": "2024-09-10T16:47:24.935752Z"
    }
   },
   "cell_type": "code",
   "source": [
    "#Tratamento de datas\n",
    "data_inicio = datetime.strptime(inicio, '%Y/%m/%d').date()\n",
    "data_final = datetime.strptime(final, '%Y/%m/%d').date()"
   ],
   "id": "fd6c03521ed5b7c7",
   "outputs": [],
   "execution_count": 28
  },
  {
   "metadata": {
    "ExecuteTime": {
     "end_time": "2024-09-10T16:47:35.971150Z",
     "start_time": "2024-09-10T16:47:24.965294Z"
    }
   },
   "cell_type": "code",
   "source": [
    "#Pegar dados sa SELIC banco central\n",
    "taxas_selic =sgs.get({\"selic\":11}, start=data_inicio, end=data_final)\n",
    "taxas_selic\n",
    "taxas_selic = taxas_selic / 100"
   ],
   "id": "69e260026fbef63a",
   "outputs": [],
   "execution_count": 29
  },
  {
   "metadata": {
    "ExecuteTime": {
     "end_time": "2024-09-10T16:47:35.992125Z",
     "start_time": "2024-09-10T16:47:35.984305Z"
    }
   },
   "cell_type": "code",
   "source": [
    "#Calcular o retorno do periodo\n",
    "capital_acumulado = capital * (1 + taxas_selic[\"selic\"]).cumprod()-1\n",
    "capital_acumulado\n"
   ],
   "id": "dd9b38d6d52774eb",
   "outputs": [
    {
     "data": {
      "text/plain": [
       "Date\n",
       "1996-01-02     1000.200000\n",
       "1996-01-03     1001.398106\n",
       "1996-01-04     1002.547526\n",
       "1996-01-05     1003.688228\n",
       "1996-01-08     1004.830227\n",
       "                  ...     \n",
       "2024-09-03    42826.117289\n",
       "2024-09-04    42842.935498\n",
       "2024-09-05    42859.760312\n",
       "2024-09-06    42876.591732\n",
       "2024-09-09    42893.429762\n",
       "Name: selic, Length: 7204, dtype: float64"
      ]
     },
     "execution_count": 30,
     "metadata": {},
     "output_type": "execute_result"
    }
   ],
   "execution_count": 30
  },
  {
   "metadata": {
    "ExecuteTime": {
     "end_time": "2024-09-10T16:48:17.256883Z",
     "start_time": "2024-09-10T16:48:17.241220Z"
    }
   },
   "cell_type": "code",
   "source": [
    "capital_com_frequencia = capital_acumulado.resample(frequencia).last()\n",
    "capital_com_frequencia"
   ],
   "id": "baf3ccd6d3a6aae0",
   "outputs": [
    {
     "data": {
      "text/plain": [
       "Date\n",
       "1996-01-31     1024.764965\n",
       "1996-02-29     1048.885472\n",
       "1996-03-31     1072.201557\n",
       "1996-04-30     1094.395862\n",
       "1996-05-31     1116.443476\n",
       "                  ...     \n",
       "2024-05-31    41714.207404\n",
       "2024-06-30    42043.063805\n",
       "2024-07-31    42424.454902\n",
       "2024-08-31    42792.500674\n",
       "2024-09-30    42893.429762\n",
       "Freq: ME, Name: selic, Length: 345, dtype: float64"
      ]
     },
     "execution_count": 33,
     "metadata": {},
     "output_type": "execute_result"
    }
   ],
   "execution_count": 33
  },
  {
   "metadata": {
    "ExecuteTime": {
     "end_time": "2024-09-10T17:34:57.956159Z",
     "start_time": "2024-09-10T17:34:57.325698Z"
    }
   },
   "cell_type": "code",
   "source": [
    "#Filtrar data da selic espefica\n",
    "data_inicial_2  = date(2000,1,1)\n",
    "data_final_2 = date(2022,3,3)\n",
    "selic_questao_2 =sgs.get({\"selic\":11}, start=data_inicial_2, end=data_final_2) / 100\n",
    "selic_questao_2\n"
   ],
   "id": "a6fd6aeb358ade4c",
   "outputs": [
    {
     "data": {
      "text/plain": [
       "               selic\n",
       "Date                \n",
       "2000-01-03  0.000692\n",
       "2000-01-04  0.000692\n",
       "2000-01-05  0.000692\n",
       "2000-01-06  0.000693\n",
       "2000-01-07  0.000693\n",
       "...              ...\n",
       "2022-02-23  0.000402\n",
       "2022-02-24  0.000402\n",
       "2022-02-25  0.000402\n",
       "2022-03-02  0.000402\n",
       "2022-03-03  0.000402\n",
       "\n",
       "[5568 rows x 1 columns]"
      ],
      "text/html": [
       "<div>\n",
       "<style scoped>\n",
       "    .dataframe tbody tr th:only-of-type {\n",
       "        vertical-align: middle;\n",
       "    }\n",
       "\n",
       "    .dataframe tbody tr th {\n",
       "        vertical-align: top;\n",
       "    }\n",
       "\n",
       "    .dataframe thead th {\n",
       "        text-align: right;\n",
       "    }\n",
       "</style>\n",
       "<table border=\"1\" class=\"dataframe\">\n",
       "  <thead>\n",
       "    <tr style=\"text-align: right;\">\n",
       "      <th></th>\n",
       "      <th>selic</th>\n",
       "    </tr>\n",
       "    <tr>\n",
       "      <th>Date</th>\n",
       "      <th></th>\n",
       "    </tr>\n",
       "  </thead>\n",
       "  <tbody>\n",
       "    <tr>\n",
       "      <th>2000-01-03</th>\n",
       "      <td>0.000692</td>\n",
       "    </tr>\n",
       "    <tr>\n",
       "      <th>2000-01-04</th>\n",
       "      <td>0.000692</td>\n",
       "    </tr>\n",
       "    <tr>\n",
       "      <th>2000-01-05</th>\n",
       "      <td>0.000692</td>\n",
       "    </tr>\n",
       "    <tr>\n",
       "      <th>2000-01-06</th>\n",
       "      <td>0.000693</td>\n",
       "    </tr>\n",
       "    <tr>\n",
       "      <th>2000-01-07</th>\n",
       "      <td>0.000693</td>\n",
       "    </tr>\n",
       "    <tr>\n",
       "      <th>...</th>\n",
       "      <td>...</td>\n",
       "    </tr>\n",
       "    <tr>\n",
       "      <th>2022-02-23</th>\n",
       "      <td>0.000402</td>\n",
       "    </tr>\n",
       "    <tr>\n",
       "      <th>2022-02-24</th>\n",
       "      <td>0.000402</td>\n",
       "    </tr>\n",
       "    <tr>\n",
       "      <th>2022-02-25</th>\n",
       "      <td>0.000402</td>\n",
       "    </tr>\n",
       "    <tr>\n",
       "      <th>2022-03-02</th>\n",
       "      <td>0.000402</td>\n",
       "    </tr>\n",
       "    <tr>\n",
       "      <th>2022-03-03</th>\n",
       "      <td>0.000402</td>\n",
       "    </tr>\n",
       "  </tbody>\n",
       "</table>\n",
       "<p>5568 rows × 1 columns</p>\n",
       "</div>"
      ]
     },
     "execution_count": 38,
     "metadata": {},
     "output_type": "execute_result"
    }
   ],
   "execution_count": 38
  },
  {
   "metadata": {
    "ExecuteTime": {
     "end_time": "2024-09-10T17:37:28.124100Z",
     "start_time": "2024-09-10T17:37:27.730715Z"
    }
   },
   "cell_type": "code",
   "source": [
    "#Calcular rentabilidade de 500 dias\n",
    "janela_500_dias = ((1 + selic_questao_2).rolling(window= 500).apply(np.prod)-1)\n",
    "janela_500_dias\n",
    "                "
   ],
   "id": "1d6b19f1a68c5a4",
   "outputs": [
    {
     "data": {
      "text/plain": [
       "               selic\n",
       "Date                \n",
       "2000-01-03       NaN\n",
       "2000-01-04       NaN\n",
       "2000-01-05       NaN\n",
       "2000-01-06       NaN\n",
       "2000-01-07       NaN\n",
       "...              ...\n",
       "2022-02-23  0.080921\n",
       "2022-02-24  0.081180\n",
       "2022-02-25  0.081440\n",
       "2022-03-02  0.081700\n",
       "2022-03-03  0.081960\n",
       "\n",
       "[5568 rows x 1 columns]"
      ],
      "text/html": [
       "<div>\n",
       "<style scoped>\n",
       "    .dataframe tbody tr th:only-of-type {\n",
       "        vertical-align: middle;\n",
       "    }\n",
       "\n",
       "    .dataframe tbody tr th {\n",
       "        vertical-align: top;\n",
       "    }\n",
       "\n",
       "    .dataframe thead th {\n",
       "        text-align: right;\n",
       "    }\n",
       "</style>\n",
       "<table border=\"1\" class=\"dataframe\">\n",
       "  <thead>\n",
       "    <tr style=\"text-align: right;\">\n",
       "      <th></th>\n",
       "      <th>selic</th>\n",
       "    </tr>\n",
       "    <tr>\n",
       "      <th>Date</th>\n",
       "      <th></th>\n",
       "    </tr>\n",
       "  </thead>\n",
       "  <tbody>\n",
       "    <tr>\n",
       "      <th>2000-01-03</th>\n",
       "      <td>NaN</td>\n",
       "    </tr>\n",
       "    <tr>\n",
       "      <th>2000-01-04</th>\n",
       "      <td>NaN</td>\n",
       "    </tr>\n",
       "    <tr>\n",
       "      <th>2000-01-05</th>\n",
       "      <td>NaN</td>\n",
       "    </tr>\n",
       "    <tr>\n",
       "      <th>2000-01-06</th>\n",
       "      <td>NaN</td>\n",
       "    </tr>\n",
       "    <tr>\n",
       "      <th>2000-01-07</th>\n",
       "      <td>NaN</td>\n",
       "    </tr>\n",
       "    <tr>\n",
       "      <th>...</th>\n",
       "      <td>...</td>\n",
       "    </tr>\n",
       "    <tr>\n",
       "      <th>2022-02-23</th>\n",
       "      <td>0.080921</td>\n",
       "    </tr>\n",
       "    <tr>\n",
       "      <th>2022-02-24</th>\n",
       "      <td>0.081180</td>\n",
       "    </tr>\n",
       "    <tr>\n",
       "      <th>2022-02-25</th>\n",
       "      <td>0.081440</td>\n",
       "    </tr>\n",
       "    <tr>\n",
       "      <th>2022-03-02</th>\n",
       "      <td>0.081700</td>\n",
       "    </tr>\n",
       "    <tr>\n",
       "      <th>2022-03-03</th>\n",
       "      <td>0.081960</td>\n",
       "    </tr>\n",
       "  </tbody>\n",
       "</table>\n",
       "<p>5568 rows × 1 columns</p>\n",
       "</div>"
      ]
     },
     "execution_count": 40,
     "metadata": {},
     "output_type": "execute_result"
    }
   ],
   "execution_count": 40
  },
  {
   "metadata": {
    "ExecuteTime": {
     "end_time": "2024-09-10T17:42:34.720206Z",
     "start_time": "2024-09-10T17:42:34.706797Z"
    }
   },
   "cell_type": "code",
   "source": [
    "\n",
    "janela_500_dias= janela_500_dias.reset_index()\n",
    "janela_500_dias"
   ],
   "id": "b9c506eb50742b2e",
   "outputs": [
    {
     "data": {
      "text/plain": [
       "      level_0  index       Date     selic data_inicial\n",
       "0           0      0 2001-12-31  0.377688          NaT\n",
       "1           1      1 2002-01-02  0.377688          NaT\n",
       "2           2      2 2002-01-03  0.377689          NaT\n",
       "3           3      3 2002-01-04  0.377689          NaT\n",
       "4           4      4 2002-01-07  0.377688          NaT\n",
       "...       ...    ...        ...       ...          ...\n",
       "5064     5064   5064 2022-02-23  0.080921   2020-02-28\n",
       "5065     5065   5065 2022-02-24  0.081180   2020-03-02\n",
       "5066     5066   5066 2022-02-25  0.081440   2020-03-03\n",
       "5067     5067   5067 2022-03-02  0.081700   2020-03-04\n",
       "5068     5068   5068 2022-03-03  0.081960   2020-03-05\n",
       "\n",
       "[5069 rows x 5 columns]"
      ],
      "text/html": [
       "<div>\n",
       "<style scoped>\n",
       "    .dataframe tbody tr th:only-of-type {\n",
       "        vertical-align: middle;\n",
       "    }\n",
       "\n",
       "    .dataframe tbody tr th {\n",
       "        vertical-align: top;\n",
       "    }\n",
       "\n",
       "    .dataframe thead th {\n",
       "        text-align: right;\n",
       "    }\n",
       "</style>\n",
       "<table border=\"1\" class=\"dataframe\">\n",
       "  <thead>\n",
       "    <tr style=\"text-align: right;\">\n",
       "      <th></th>\n",
       "      <th>level_0</th>\n",
       "      <th>index</th>\n",
       "      <th>Date</th>\n",
       "      <th>selic</th>\n",
       "      <th>data_inicial</th>\n",
       "    </tr>\n",
       "  </thead>\n",
       "  <tbody>\n",
       "    <tr>\n",
       "      <th>0</th>\n",
       "      <td>0</td>\n",
       "      <td>0</td>\n",
       "      <td>2001-12-31</td>\n",
       "      <td>0.377688</td>\n",
       "      <td>NaT</td>\n",
       "    </tr>\n",
       "    <tr>\n",
       "      <th>1</th>\n",
       "      <td>1</td>\n",
       "      <td>1</td>\n",
       "      <td>2002-01-02</td>\n",
       "      <td>0.377688</td>\n",
       "      <td>NaT</td>\n",
       "    </tr>\n",
       "    <tr>\n",
       "      <th>2</th>\n",
       "      <td>2</td>\n",
       "      <td>2</td>\n",
       "      <td>2002-01-03</td>\n",
       "      <td>0.377689</td>\n",
       "      <td>NaT</td>\n",
       "    </tr>\n",
       "    <tr>\n",
       "      <th>3</th>\n",
       "      <td>3</td>\n",
       "      <td>3</td>\n",
       "      <td>2002-01-04</td>\n",
       "      <td>0.377689</td>\n",
       "      <td>NaT</td>\n",
       "    </tr>\n",
       "    <tr>\n",
       "      <th>4</th>\n",
       "      <td>4</td>\n",
       "      <td>4</td>\n",
       "      <td>2002-01-07</td>\n",
       "      <td>0.377688</td>\n",
       "      <td>NaT</td>\n",
       "    </tr>\n",
       "    <tr>\n",
       "      <th>...</th>\n",
       "      <td>...</td>\n",
       "      <td>...</td>\n",
       "      <td>...</td>\n",
       "      <td>...</td>\n",
       "      <td>...</td>\n",
       "    </tr>\n",
       "    <tr>\n",
       "      <th>5064</th>\n",
       "      <td>5064</td>\n",
       "      <td>5064</td>\n",
       "      <td>2022-02-23</td>\n",
       "      <td>0.080921</td>\n",
       "      <td>2020-02-28</td>\n",
       "    </tr>\n",
       "    <tr>\n",
       "      <th>5065</th>\n",
       "      <td>5065</td>\n",
       "      <td>5065</td>\n",
       "      <td>2022-02-24</td>\n",
       "      <td>0.081180</td>\n",
       "      <td>2020-03-02</td>\n",
       "    </tr>\n",
       "    <tr>\n",
       "      <th>5066</th>\n",
       "      <td>5066</td>\n",
       "      <td>5066</td>\n",
       "      <td>2022-02-25</td>\n",
       "      <td>0.081440</td>\n",
       "      <td>2020-03-03</td>\n",
       "    </tr>\n",
       "    <tr>\n",
       "      <th>5067</th>\n",
       "      <td>5067</td>\n",
       "      <td>5067</td>\n",
       "      <td>2022-03-02</td>\n",
       "      <td>0.081700</td>\n",
       "      <td>2020-03-04</td>\n",
       "    </tr>\n",
       "    <tr>\n",
       "      <th>5068</th>\n",
       "      <td>5068</td>\n",
       "      <td>5068</td>\n",
       "      <td>2022-03-03</td>\n",
       "      <td>0.081960</td>\n",
       "      <td>2020-03-05</td>\n",
       "    </tr>\n",
       "  </tbody>\n",
       "</table>\n",
       "<p>5069 rows × 5 columns</p>\n",
       "</div>"
      ]
     },
     "execution_count": 47,
     "metadata": {},
     "output_type": "execute_result"
    }
   ],
   "execution_count": 47
  },
  {
   "metadata": {
    "ExecuteTime": {
     "end_time": "2024-09-10T17:42:52.556638Z",
     "start_time": "2024-09-10T17:42:52.544169Z"
    }
   },
   "cell_type": "code",
   "source": [
    "\n",
    "janela_500_dias[\"data_inicial\"]= janela_500_dias[\"Date\"].shift(500)\n",
    "janela_500_dias\n"
   ],
   "id": "9d070434045c5c14",
   "outputs": [
    {
     "data": {
      "text/plain": [
       "      level_0  index       Date     selic data_inicial\n",
       "0           0      0 2001-12-31  0.377688          NaT\n",
       "1           1      1 2002-01-02  0.377688          NaT\n",
       "2           2      2 2002-01-03  0.377689          NaT\n",
       "3           3      3 2002-01-04  0.377689          NaT\n",
       "4           4      4 2002-01-07  0.377688          NaT\n",
       "...       ...    ...        ...       ...          ...\n",
       "5064     5064   5064 2022-02-23  0.080921   2020-02-28\n",
       "5065     5065   5065 2022-02-24  0.081180   2020-03-02\n",
       "5066     5066   5066 2022-02-25  0.081440   2020-03-03\n",
       "5067     5067   5067 2022-03-02  0.081700   2020-03-04\n",
       "5068     5068   5068 2022-03-03  0.081960   2020-03-05\n",
       "\n",
       "[5069 rows x 5 columns]"
      ],
      "text/html": [
       "<div>\n",
       "<style scoped>\n",
       "    .dataframe tbody tr th:only-of-type {\n",
       "        vertical-align: middle;\n",
       "    }\n",
       "\n",
       "    .dataframe tbody tr th {\n",
       "        vertical-align: top;\n",
       "    }\n",
       "\n",
       "    .dataframe thead th {\n",
       "        text-align: right;\n",
       "    }\n",
       "</style>\n",
       "<table border=\"1\" class=\"dataframe\">\n",
       "  <thead>\n",
       "    <tr style=\"text-align: right;\">\n",
       "      <th></th>\n",
       "      <th>level_0</th>\n",
       "      <th>index</th>\n",
       "      <th>Date</th>\n",
       "      <th>selic</th>\n",
       "      <th>data_inicial</th>\n",
       "    </tr>\n",
       "  </thead>\n",
       "  <tbody>\n",
       "    <tr>\n",
       "      <th>0</th>\n",
       "      <td>0</td>\n",
       "      <td>0</td>\n",
       "      <td>2001-12-31</td>\n",
       "      <td>0.377688</td>\n",
       "      <td>NaT</td>\n",
       "    </tr>\n",
       "    <tr>\n",
       "      <th>1</th>\n",
       "      <td>1</td>\n",
       "      <td>1</td>\n",
       "      <td>2002-01-02</td>\n",
       "      <td>0.377688</td>\n",
       "      <td>NaT</td>\n",
       "    </tr>\n",
       "    <tr>\n",
       "      <th>2</th>\n",
       "      <td>2</td>\n",
       "      <td>2</td>\n",
       "      <td>2002-01-03</td>\n",
       "      <td>0.377689</td>\n",
       "      <td>NaT</td>\n",
       "    </tr>\n",
       "    <tr>\n",
       "      <th>3</th>\n",
       "      <td>3</td>\n",
       "      <td>3</td>\n",
       "      <td>2002-01-04</td>\n",
       "      <td>0.377689</td>\n",
       "      <td>NaT</td>\n",
       "    </tr>\n",
       "    <tr>\n",
       "      <th>4</th>\n",
       "      <td>4</td>\n",
       "      <td>4</td>\n",
       "      <td>2002-01-07</td>\n",
       "      <td>0.377688</td>\n",
       "      <td>NaT</td>\n",
       "    </tr>\n",
       "    <tr>\n",
       "      <th>...</th>\n",
       "      <td>...</td>\n",
       "      <td>...</td>\n",
       "      <td>...</td>\n",
       "      <td>...</td>\n",
       "      <td>...</td>\n",
       "    </tr>\n",
       "    <tr>\n",
       "      <th>5064</th>\n",
       "      <td>5064</td>\n",
       "      <td>5064</td>\n",
       "      <td>2022-02-23</td>\n",
       "      <td>0.080921</td>\n",
       "      <td>2020-02-28</td>\n",
       "    </tr>\n",
       "    <tr>\n",
       "      <th>5065</th>\n",
       "      <td>5065</td>\n",
       "      <td>5065</td>\n",
       "      <td>2022-02-24</td>\n",
       "      <td>0.081180</td>\n",
       "      <td>2020-03-02</td>\n",
       "    </tr>\n",
       "    <tr>\n",
       "      <th>5066</th>\n",
       "      <td>5066</td>\n",
       "      <td>5066</td>\n",
       "      <td>2022-02-25</td>\n",
       "      <td>0.081440</td>\n",
       "      <td>2020-03-03</td>\n",
       "    </tr>\n",
       "    <tr>\n",
       "      <th>5067</th>\n",
       "      <td>5067</td>\n",
       "      <td>5067</td>\n",
       "      <td>2022-03-02</td>\n",
       "      <td>0.081700</td>\n",
       "      <td>2020-03-04</td>\n",
       "    </tr>\n",
       "    <tr>\n",
       "      <th>5068</th>\n",
       "      <td>5068</td>\n",
       "      <td>5068</td>\n",
       "      <td>2022-03-03</td>\n",
       "      <td>0.081960</td>\n",
       "      <td>2020-03-05</td>\n",
       "    </tr>\n",
       "  </tbody>\n",
       "</table>\n",
       "<p>5069 rows × 5 columns</p>\n",
       "</div>"
      ]
     },
     "execution_count": 49,
     "metadata": {},
     "output_type": "execute_result"
    }
   ],
   "execution_count": 49
  },
  {
   "metadata": {
    "ExecuteTime": {
     "end_time": "2024-09-10T17:43:13.225790Z",
     "start_time": "2024-09-10T17:43:13.213864Z"
    }
   },
   "cell_type": "code",
   "source": [
    "janela_500_dias =janela_500_dias.dropna()\n",
    "janela_500_dias"
   ],
   "id": "30b5192b7d4ae043",
   "outputs": [
    {
     "data": {
      "text/plain": [
       "      level_0  index       Date     selic data_inicial\n",
       "500       500    500 2003-12-22  0.464659   2001-12-31\n",
       "501       501    501 2003-12-23  0.464525   2002-01-02\n",
       "502       502    502 2003-12-24  0.464391   2002-01-03\n",
       "503       503    503 2003-12-26  0.464258   2002-01-04\n",
       "504       504    504 2003-12-29  0.464124   2002-01-07\n",
       "...       ...    ...        ...       ...          ...\n",
       "5064     5064   5064 2022-02-23  0.080921   2020-02-28\n",
       "5065     5065   5065 2022-02-24  0.081180   2020-03-02\n",
       "5066     5066   5066 2022-02-25  0.081440   2020-03-03\n",
       "5067     5067   5067 2022-03-02  0.081700   2020-03-04\n",
       "5068     5068   5068 2022-03-03  0.081960   2020-03-05\n",
       "\n",
       "[4569 rows x 5 columns]"
      ],
      "text/html": [
       "<div>\n",
       "<style scoped>\n",
       "    .dataframe tbody tr th:only-of-type {\n",
       "        vertical-align: middle;\n",
       "    }\n",
       "\n",
       "    .dataframe tbody tr th {\n",
       "        vertical-align: top;\n",
       "    }\n",
       "\n",
       "    .dataframe thead th {\n",
       "        text-align: right;\n",
       "    }\n",
       "</style>\n",
       "<table border=\"1\" class=\"dataframe\">\n",
       "  <thead>\n",
       "    <tr style=\"text-align: right;\">\n",
       "      <th></th>\n",
       "      <th>level_0</th>\n",
       "      <th>index</th>\n",
       "      <th>Date</th>\n",
       "      <th>selic</th>\n",
       "      <th>data_inicial</th>\n",
       "    </tr>\n",
       "  </thead>\n",
       "  <tbody>\n",
       "    <tr>\n",
       "      <th>500</th>\n",
       "      <td>500</td>\n",
       "      <td>500</td>\n",
       "      <td>2003-12-22</td>\n",
       "      <td>0.464659</td>\n",
       "      <td>2001-12-31</td>\n",
       "    </tr>\n",
       "    <tr>\n",
       "      <th>501</th>\n",
       "      <td>501</td>\n",
       "      <td>501</td>\n",
       "      <td>2003-12-23</td>\n",
       "      <td>0.464525</td>\n",
       "      <td>2002-01-02</td>\n",
       "    </tr>\n",
       "    <tr>\n",
       "      <th>502</th>\n",
       "      <td>502</td>\n",
       "      <td>502</td>\n",
       "      <td>2003-12-24</td>\n",
       "      <td>0.464391</td>\n",
       "      <td>2002-01-03</td>\n",
       "    </tr>\n",
       "    <tr>\n",
       "      <th>503</th>\n",
       "      <td>503</td>\n",
       "      <td>503</td>\n",
       "      <td>2003-12-26</td>\n",
       "      <td>0.464258</td>\n",
       "      <td>2002-01-04</td>\n",
       "    </tr>\n",
       "    <tr>\n",
       "      <th>504</th>\n",
       "      <td>504</td>\n",
       "      <td>504</td>\n",
       "      <td>2003-12-29</td>\n",
       "      <td>0.464124</td>\n",
       "      <td>2002-01-07</td>\n",
       "    </tr>\n",
       "    <tr>\n",
       "      <th>...</th>\n",
       "      <td>...</td>\n",
       "      <td>...</td>\n",
       "      <td>...</td>\n",
       "      <td>...</td>\n",
       "      <td>...</td>\n",
       "    </tr>\n",
       "    <tr>\n",
       "      <th>5064</th>\n",
       "      <td>5064</td>\n",
       "      <td>5064</td>\n",
       "      <td>2022-02-23</td>\n",
       "      <td>0.080921</td>\n",
       "      <td>2020-02-28</td>\n",
       "    </tr>\n",
       "    <tr>\n",
       "      <th>5065</th>\n",
       "      <td>5065</td>\n",
       "      <td>5065</td>\n",
       "      <td>2022-02-24</td>\n",
       "      <td>0.081180</td>\n",
       "      <td>2020-03-02</td>\n",
       "    </tr>\n",
       "    <tr>\n",
       "      <th>5066</th>\n",
       "      <td>5066</td>\n",
       "      <td>5066</td>\n",
       "      <td>2022-02-25</td>\n",
       "      <td>0.081440</td>\n",
       "      <td>2020-03-03</td>\n",
       "    </tr>\n",
       "    <tr>\n",
       "      <th>5067</th>\n",
       "      <td>5067</td>\n",
       "      <td>5067</td>\n",
       "      <td>2022-03-02</td>\n",
       "      <td>0.081700</td>\n",
       "      <td>2020-03-04</td>\n",
       "    </tr>\n",
       "    <tr>\n",
       "      <th>5068</th>\n",
       "      <td>5068</td>\n",
       "      <td>5068</td>\n",
       "      <td>2022-03-03</td>\n",
       "      <td>0.081960</td>\n",
       "      <td>2020-03-05</td>\n",
       "    </tr>\n",
       "  </tbody>\n",
       "</table>\n",
       "<p>4569 rows × 5 columns</p>\n",
       "</div>"
      ]
     },
     "execution_count": 50,
     "metadata": {},
     "output_type": "execute_result"
    }
   ],
   "execution_count": 50
  },
  {
   "metadata": {
    "ExecuteTime": {
     "end_time": "2024-09-10T17:46:02.637906Z",
     "start_time": "2024-09-10T17:46:02.632266Z"
    }
   },
   "cell_type": "code",
   "source": [
    "maior_retorno = janela_500_dias[\"selic\"].max()\n",
    "maior_retorno"
   ],
   "id": "328be4a2f1dbefce",
   "outputs": [
    {
     "data": {
      "text/plain": [
       "0.4646590818944092"
      ]
     },
     "execution_count": 54,
     "metadata": {},
     "output_type": "execute_result"
    }
   ],
   "execution_count": 54
  },
  {
   "metadata": {
    "ExecuteTime": {
     "end_time": "2024-09-10T17:47:20.595147Z",
     "start_time": "2024-09-10T17:47:20.583671Z"
    }
   },
   "cell_type": "code",
   "source": [
    "gabarito = janela_500_dias[janela_500_dias[\"selic\"] == maior_retorno]\n",
    "gabarito"
   ],
   "id": "bc508ced75966c84",
   "outputs": [
    {
     "data": {
      "text/plain": [
       "     level_0  index       Date     selic data_inicial\n",
       "500      500    500 2003-12-22  0.464659   2001-12-31"
      ],
      "text/html": [
       "<div>\n",
       "<style scoped>\n",
       "    .dataframe tbody tr th:only-of-type {\n",
       "        vertical-align: middle;\n",
       "    }\n",
       "\n",
       "    .dataframe tbody tr th {\n",
       "        vertical-align: top;\n",
       "    }\n",
       "\n",
       "    .dataframe thead th {\n",
       "        text-align: right;\n",
       "    }\n",
       "</style>\n",
       "<table border=\"1\" class=\"dataframe\">\n",
       "  <thead>\n",
       "    <tr style=\"text-align: right;\">\n",
       "      <th></th>\n",
       "      <th>level_0</th>\n",
       "      <th>index</th>\n",
       "      <th>Date</th>\n",
       "      <th>selic</th>\n",
       "      <th>data_inicial</th>\n",
       "    </tr>\n",
       "  </thead>\n",
       "  <tbody>\n",
       "    <tr>\n",
       "      <th>500</th>\n",
       "      <td>500</td>\n",
       "      <td>500</td>\n",
       "      <td>2003-12-22</td>\n",
       "      <td>0.464659</td>\n",
       "      <td>2001-12-31</td>\n",
       "    </tr>\n",
       "  </tbody>\n",
       "</table>\n",
       "</div>"
      ]
     },
     "execution_count": 56,
     "metadata": {},
     "output_type": "execute_result"
    }
   ],
   "execution_count": 56
  },
  {
   "metadata": {},
   "cell_type": "code",
   "outputs": [],
   "execution_count": null,
   "source": "",
   "id": "6c535317124a0458"
  }
 ],
 "metadata": {
  "kernelspec": {
   "display_name": "Python 3",
   "language": "python",
   "name": "python3"
  },
  "language_info": {
   "codemirror_mode": {
    "name": "ipython",
    "version": 2
   },
   "file_extension": ".py",
   "mimetype": "text/x-python",
   "name": "python",
   "nbconvert_exporter": "python",
   "pygments_lexer": "ipython2",
   "version": "2.7.6"
  }
 },
 "nbformat": 4,
 "nbformat_minor": 5
}
