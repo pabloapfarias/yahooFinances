{
 "cells": [
  {
   "metadata": {},
   "cell_type": "markdown",
   "source": [
    "# Estudo sobre Reports do mercado financeiro\n",
    "# Instalação de bibliotecas\n",
    "## pip install mpcyberpunk\n",
    "## pip install pandas\n",
    "\n"
   ],
   "id": "62b1255c57ab887b"
  },
  {
   "metadata": {
    "ExecuteTime": {
     "end_time": "2024-09-10T14:44:38.926542Z",
     "start_time": "2024-09-10T14:44:38.922087Z"
    }
   },
   "cell_type": "code",
   "source": [
    "import win32com\n",
    "#Importação das bibliotecas\n",
    "import yfinance as yf\n",
    "import pandas as pd\n",
    "import matplotlib.pyplot as plt\n",
    "import mplcyberpunk"
   ],
   "id": "fcbe2ea6cdc5a9ea",
   "outputs": [],
   "execution_count": 30
  },
  {
   "metadata": {
    "ExecuteTime": {
     "end_time": "2024-09-10T14:44:38.961218Z",
     "start_time": "2024-09-10T14:44:38.957217Z"
    }
   },
   "cell_type": "code",
   "source": "",
   "id": "b9d8ba93cdda9547",
   "outputs": [],
   "execution_count": null
  },
  {
   "metadata": {},
   "cell_type": "markdown",
   "source": "# Pegar as cotações historicas\n",
   "id": "e71d073308c39950"
  },
  {
   "metadata": {
    "ExecuteTime": {
     "end_time": "2024-09-10T14:44:39.703885Z",
     "start_time": "2024-09-10T14:44:39.019161Z"
    }
   },
   "cell_type": "code",
   "source": [
    "tickers = [\"^BVSP\", \"^GSPC\", \"BRL=X\"]\n",
    "dados_mercado = yf.download(tickers, period=\"6mo\")\n",
    "dados_mercado = dados_mercado[\"Adj Close\"]\n",
    "dados_mercado\n"
   ],
   "id": "7db2483fbd71375",
   "outputs": [
    {
     "name": "stderr",
     "output_type": "stream",
     "text": [
      "[*********************100%***********************]  3 of 3 completed\n"
     ]
    },
    {
     "data": {
      "text/plain": [
       "Ticker                       BRL=X         ^BVSP        ^GSPC\n",
       "Date                                                         \n",
       "2024-03-11 00:00:00+00:00  4.97754  126124.00000  5117.939941\n",
       "2024-03-12 00:00:00+00:00  4.97740  127668.00000  5175.270020\n",
       "2024-03-13 00:00:00+00:00  4.96870  128006.00000  5165.310059\n",
       "2024-03-14 00:00:00+00:00  4.96920  127690.00000  5150.479980\n",
       "2024-03-15 00:00:00+00:00  4.99270  126742.00000  5117.089844\n",
       "...                            ...           ...          ...\n",
       "2024-09-04 00:00:00+00:00  5.64750  136111.00000  5520.069824\n",
       "2024-09-05 00:00:00+00:00  5.64200  136502.00000  5503.410156\n",
       "2024-09-06 00:00:00+00:00  5.56750  134572.00000  5408.419922\n",
       "2024-09-09 00:00:00+00:00  5.59660  134737.00000  5471.049805\n",
       "2024-09-10 00:00:00+00:00  5.62600  133803.84375  5472.169922\n",
       "\n",
       "[132 rows x 3 columns]"
      ],
      "text/html": [
       "<div>\n",
       "<style scoped>\n",
       "    .dataframe tbody tr th:only-of-type {\n",
       "        vertical-align: middle;\n",
       "    }\n",
       "\n",
       "    .dataframe tbody tr th {\n",
       "        vertical-align: top;\n",
       "    }\n",
       "\n",
       "    .dataframe thead th {\n",
       "        text-align: right;\n",
       "    }\n",
       "</style>\n",
       "<table border=\"1\" class=\"dataframe\">\n",
       "  <thead>\n",
       "    <tr style=\"text-align: right;\">\n",
       "      <th>Ticker</th>\n",
       "      <th>BRL=X</th>\n",
       "      <th>^BVSP</th>\n",
       "      <th>^GSPC</th>\n",
       "    </tr>\n",
       "    <tr>\n",
       "      <th>Date</th>\n",
       "      <th></th>\n",
       "      <th></th>\n",
       "      <th></th>\n",
       "    </tr>\n",
       "  </thead>\n",
       "  <tbody>\n",
       "    <tr>\n",
       "      <th>2024-03-11 00:00:00+00:00</th>\n",
       "      <td>4.97754</td>\n",
       "      <td>126124.00000</td>\n",
       "      <td>5117.939941</td>\n",
       "    </tr>\n",
       "    <tr>\n",
       "      <th>2024-03-12 00:00:00+00:00</th>\n",
       "      <td>4.97740</td>\n",
       "      <td>127668.00000</td>\n",
       "      <td>5175.270020</td>\n",
       "    </tr>\n",
       "    <tr>\n",
       "      <th>2024-03-13 00:00:00+00:00</th>\n",
       "      <td>4.96870</td>\n",
       "      <td>128006.00000</td>\n",
       "      <td>5165.310059</td>\n",
       "    </tr>\n",
       "    <tr>\n",
       "      <th>2024-03-14 00:00:00+00:00</th>\n",
       "      <td>4.96920</td>\n",
       "      <td>127690.00000</td>\n",
       "      <td>5150.479980</td>\n",
       "    </tr>\n",
       "    <tr>\n",
       "      <th>2024-03-15 00:00:00+00:00</th>\n",
       "      <td>4.99270</td>\n",
       "      <td>126742.00000</td>\n",
       "      <td>5117.089844</td>\n",
       "    </tr>\n",
       "    <tr>\n",
       "      <th>...</th>\n",
       "      <td>...</td>\n",
       "      <td>...</td>\n",
       "      <td>...</td>\n",
       "    </tr>\n",
       "    <tr>\n",
       "      <th>2024-09-04 00:00:00+00:00</th>\n",
       "      <td>5.64750</td>\n",
       "      <td>136111.00000</td>\n",
       "      <td>5520.069824</td>\n",
       "    </tr>\n",
       "    <tr>\n",
       "      <th>2024-09-05 00:00:00+00:00</th>\n",
       "      <td>5.64200</td>\n",
       "      <td>136502.00000</td>\n",
       "      <td>5503.410156</td>\n",
       "    </tr>\n",
       "    <tr>\n",
       "      <th>2024-09-06 00:00:00+00:00</th>\n",
       "      <td>5.56750</td>\n",
       "      <td>134572.00000</td>\n",
       "      <td>5408.419922</td>\n",
       "    </tr>\n",
       "    <tr>\n",
       "      <th>2024-09-09 00:00:00+00:00</th>\n",
       "      <td>5.59660</td>\n",
       "      <td>134737.00000</td>\n",
       "      <td>5471.049805</td>\n",
       "    </tr>\n",
       "    <tr>\n",
       "      <th>2024-09-10 00:00:00+00:00</th>\n",
       "      <td>5.62600</td>\n",
       "      <td>133803.84375</td>\n",
       "      <td>5472.169922</td>\n",
       "    </tr>\n",
       "  </tbody>\n",
       "</table>\n",
       "<p>132 rows × 3 columns</p>\n",
       "</div>"
      ]
     },
     "execution_count": 31,
     "metadata": {},
     "output_type": "execute_result"
    }
   ],
   "execution_count": 31
  },
  {
   "metadata": {
    "ExecuteTime": {
     "end_time": "2024-09-10T14:44:39.755016Z",
     "start_time": "2024-09-10T14:44:39.751277Z"
    }
   },
   "cell_type": "code",
   "source": "",
   "id": "f5da422b00891e02",
   "outputs": [],
   "execution_count": null
  },
  {
   "metadata": {},
   "cell_type": "markdown",
   "source": "## Tratamento de dados coletados\n",
   "id": "dca0710265ca7edf"
  },
  {
   "metadata": {
    "ExecuteTime": {
     "end_time": "2024-09-10T14:44:39.843546Z",
     "start_time": "2024-09-10T14:44:39.833115Z"
    }
   },
   "cell_type": "code",
   "source": [
    "dados_mercado = dados_mercado.dropna()\n",
    "dados_mercado"
   ],
   "id": "f3e995497fd421f5",
   "outputs": [
    {
     "data": {
      "text/plain": [
       "Ticker                       BRL=X         ^BVSP        ^GSPC\n",
       "Date                                                         \n",
       "2024-03-11 00:00:00+00:00  4.97754  126124.00000  5117.939941\n",
       "2024-03-12 00:00:00+00:00  4.97740  127668.00000  5175.270020\n",
       "2024-03-13 00:00:00+00:00  4.96870  128006.00000  5165.310059\n",
       "2024-03-14 00:00:00+00:00  4.96920  127690.00000  5150.479980\n",
       "2024-03-15 00:00:00+00:00  4.99270  126742.00000  5117.089844\n",
       "...                            ...           ...          ...\n",
       "2024-09-04 00:00:00+00:00  5.64750  136111.00000  5520.069824\n",
       "2024-09-05 00:00:00+00:00  5.64200  136502.00000  5503.410156\n",
       "2024-09-06 00:00:00+00:00  5.56750  134572.00000  5408.419922\n",
       "2024-09-09 00:00:00+00:00  5.59660  134737.00000  5471.049805\n",
       "2024-09-10 00:00:00+00:00  5.62600  133803.84375  5472.169922\n",
       "\n",
       "[125 rows x 3 columns]"
      ],
      "text/html": [
       "<div>\n",
       "<style scoped>\n",
       "    .dataframe tbody tr th:only-of-type {\n",
       "        vertical-align: middle;\n",
       "    }\n",
       "\n",
       "    .dataframe tbody tr th {\n",
       "        vertical-align: top;\n",
       "    }\n",
       "\n",
       "    .dataframe thead th {\n",
       "        text-align: right;\n",
       "    }\n",
       "</style>\n",
       "<table border=\"1\" class=\"dataframe\">\n",
       "  <thead>\n",
       "    <tr style=\"text-align: right;\">\n",
       "      <th>Ticker</th>\n",
       "      <th>BRL=X</th>\n",
       "      <th>^BVSP</th>\n",
       "      <th>^GSPC</th>\n",
       "    </tr>\n",
       "    <tr>\n",
       "      <th>Date</th>\n",
       "      <th></th>\n",
       "      <th></th>\n",
       "      <th></th>\n",
       "    </tr>\n",
       "  </thead>\n",
       "  <tbody>\n",
       "    <tr>\n",
       "      <th>2024-03-11 00:00:00+00:00</th>\n",
       "      <td>4.97754</td>\n",
       "      <td>126124.00000</td>\n",
       "      <td>5117.939941</td>\n",
       "    </tr>\n",
       "    <tr>\n",
       "      <th>2024-03-12 00:00:00+00:00</th>\n",
       "      <td>4.97740</td>\n",
       "      <td>127668.00000</td>\n",
       "      <td>5175.270020</td>\n",
       "    </tr>\n",
       "    <tr>\n",
       "      <th>2024-03-13 00:00:00+00:00</th>\n",
       "      <td>4.96870</td>\n",
       "      <td>128006.00000</td>\n",
       "      <td>5165.310059</td>\n",
       "    </tr>\n",
       "    <tr>\n",
       "      <th>2024-03-14 00:00:00+00:00</th>\n",
       "      <td>4.96920</td>\n",
       "      <td>127690.00000</td>\n",
       "      <td>5150.479980</td>\n",
       "    </tr>\n",
       "    <tr>\n",
       "      <th>2024-03-15 00:00:00+00:00</th>\n",
       "      <td>4.99270</td>\n",
       "      <td>126742.00000</td>\n",
       "      <td>5117.089844</td>\n",
       "    </tr>\n",
       "    <tr>\n",
       "      <th>...</th>\n",
       "      <td>...</td>\n",
       "      <td>...</td>\n",
       "      <td>...</td>\n",
       "    </tr>\n",
       "    <tr>\n",
       "      <th>2024-09-04 00:00:00+00:00</th>\n",
       "      <td>5.64750</td>\n",
       "      <td>136111.00000</td>\n",
       "      <td>5520.069824</td>\n",
       "    </tr>\n",
       "    <tr>\n",
       "      <th>2024-09-05 00:00:00+00:00</th>\n",
       "      <td>5.64200</td>\n",
       "      <td>136502.00000</td>\n",
       "      <td>5503.410156</td>\n",
       "    </tr>\n",
       "    <tr>\n",
       "      <th>2024-09-06 00:00:00+00:00</th>\n",
       "      <td>5.56750</td>\n",
       "      <td>134572.00000</td>\n",
       "      <td>5408.419922</td>\n",
       "    </tr>\n",
       "    <tr>\n",
       "      <th>2024-09-09 00:00:00+00:00</th>\n",
       "      <td>5.59660</td>\n",
       "      <td>134737.00000</td>\n",
       "      <td>5471.049805</td>\n",
       "    </tr>\n",
       "    <tr>\n",
       "      <th>2024-09-10 00:00:00+00:00</th>\n",
       "      <td>5.62600</td>\n",
       "      <td>133803.84375</td>\n",
       "      <td>5472.169922</td>\n",
       "    </tr>\n",
       "  </tbody>\n",
       "</table>\n",
       "<p>125 rows × 3 columns</p>\n",
       "</div>"
      ]
     },
     "execution_count": 32,
     "metadata": {},
     "output_type": "execute_result"
    }
   ],
   "execution_count": 32
  },
  {
   "metadata": {
    "ExecuteTime": {
     "end_time": "2024-09-10T14:44:40.061288Z",
     "start_time": "2024-09-10T14:44:40.056788Z"
    }
   },
   "cell_type": "code",
   "source": "dados_mercado.columns = [\"DOLLAR\", \"IBOVESPA\", \"S&P500\"]",
   "id": "3633c2ae7ecb2b43",
   "outputs": [],
   "execution_count": 33
  },
  {
   "metadata": {
    "ExecuteTime": {
     "end_time": "2024-09-10T14:44:40.176848Z",
     "start_time": "2024-09-10T14:44:40.165020Z"
    }
   },
   "cell_type": "code",
   "source": "dados_mercado",
   "id": "bab07515d397a44",
   "outputs": [
    {
     "data": {
      "text/plain": [
       "                            DOLLAR      IBOVESPA       S&P500\n",
       "Date                                                         \n",
       "2024-03-11 00:00:00+00:00  4.97754  126124.00000  5117.939941\n",
       "2024-03-12 00:00:00+00:00  4.97740  127668.00000  5175.270020\n",
       "2024-03-13 00:00:00+00:00  4.96870  128006.00000  5165.310059\n",
       "2024-03-14 00:00:00+00:00  4.96920  127690.00000  5150.479980\n",
       "2024-03-15 00:00:00+00:00  4.99270  126742.00000  5117.089844\n",
       "...                            ...           ...          ...\n",
       "2024-09-04 00:00:00+00:00  5.64750  136111.00000  5520.069824\n",
       "2024-09-05 00:00:00+00:00  5.64200  136502.00000  5503.410156\n",
       "2024-09-06 00:00:00+00:00  5.56750  134572.00000  5408.419922\n",
       "2024-09-09 00:00:00+00:00  5.59660  134737.00000  5471.049805\n",
       "2024-09-10 00:00:00+00:00  5.62600  133803.84375  5472.169922\n",
       "\n",
       "[125 rows x 3 columns]"
      ],
      "text/html": [
       "<div>\n",
       "<style scoped>\n",
       "    .dataframe tbody tr th:only-of-type {\n",
       "        vertical-align: middle;\n",
       "    }\n",
       "\n",
       "    .dataframe tbody tr th {\n",
       "        vertical-align: top;\n",
       "    }\n",
       "\n",
       "    .dataframe thead th {\n",
       "        text-align: right;\n",
       "    }\n",
       "</style>\n",
       "<table border=\"1\" class=\"dataframe\">\n",
       "  <thead>\n",
       "    <tr style=\"text-align: right;\">\n",
       "      <th></th>\n",
       "      <th>DOLLAR</th>\n",
       "      <th>IBOVESPA</th>\n",
       "      <th>S&amp;P500</th>\n",
       "    </tr>\n",
       "    <tr>\n",
       "      <th>Date</th>\n",
       "      <th></th>\n",
       "      <th></th>\n",
       "      <th></th>\n",
       "    </tr>\n",
       "  </thead>\n",
       "  <tbody>\n",
       "    <tr>\n",
       "      <th>2024-03-11 00:00:00+00:00</th>\n",
       "      <td>4.97754</td>\n",
       "      <td>126124.00000</td>\n",
       "      <td>5117.939941</td>\n",
       "    </tr>\n",
       "    <tr>\n",
       "      <th>2024-03-12 00:00:00+00:00</th>\n",
       "      <td>4.97740</td>\n",
       "      <td>127668.00000</td>\n",
       "      <td>5175.270020</td>\n",
       "    </tr>\n",
       "    <tr>\n",
       "      <th>2024-03-13 00:00:00+00:00</th>\n",
       "      <td>4.96870</td>\n",
       "      <td>128006.00000</td>\n",
       "      <td>5165.310059</td>\n",
       "    </tr>\n",
       "    <tr>\n",
       "      <th>2024-03-14 00:00:00+00:00</th>\n",
       "      <td>4.96920</td>\n",
       "      <td>127690.00000</td>\n",
       "      <td>5150.479980</td>\n",
       "    </tr>\n",
       "    <tr>\n",
       "      <th>2024-03-15 00:00:00+00:00</th>\n",
       "      <td>4.99270</td>\n",
       "      <td>126742.00000</td>\n",
       "      <td>5117.089844</td>\n",
       "    </tr>\n",
       "    <tr>\n",
       "      <th>...</th>\n",
       "      <td>...</td>\n",
       "      <td>...</td>\n",
       "      <td>...</td>\n",
       "    </tr>\n",
       "    <tr>\n",
       "      <th>2024-09-04 00:00:00+00:00</th>\n",
       "      <td>5.64750</td>\n",
       "      <td>136111.00000</td>\n",
       "      <td>5520.069824</td>\n",
       "    </tr>\n",
       "    <tr>\n",
       "      <th>2024-09-05 00:00:00+00:00</th>\n",
       "      <td>5.64200</td>\n",
       "      <td>136502.00000</td>\n",
       "      <td>5503.410156</td>\n",
       "    </tr>\n",
       "    <tr>\n",
       "      <th>2024-09-06 00:00:00+00:00</th>\n",
       "      <td>5.56750</td>\n",
       "      <td>134572.00000</td>\n",
       "      <td>5408.419922</td>\n",
       "    </tr>\n",
       "    <tr>\n",
       "      <th>2024-09-09 00:00:00+00:00</th>\n",
       "      <td>5.59660</td>\n",
       "      <td>134737.00000</td>\n",
       "      <td>5471.049805</td>\n",
       "    </tr>\n",
       "    <tr>\n",
       "      <th>2024-09-10 00:00:00+00:00</th>\n",
       "      <td>5.62600</td>\n",
       "      <td>133803.84375</td>\n",
       "      <td>5472.169922</td>\n",
       "    </tr>\n",
       "  </tbody>\n",
       "</table>\n",
       "<p>125 rows × 3 columns</p>\n",
       "</div>"
      ]
     },
     "execution_count": 34,
     "metadata": {},
     "output_type": "execute_result"
    }
   ],
   "execution_count": 34
  },
  {
   "metadata": {
    "ExecuteTime": {
     "end_time": "2024-09-10T14:44:40.419668Z",
     "start_time": "2024-09-10T14:44:40.416117Z"
    }
   },
   "cell_type": "code",
   "source": "",
   "id": "65cee338fd81a362",
   "outputs": [],
   "execution_count": null
  },
  {
   "metadata": {},
   "cell_type": "markdown",
   "source": "## Criar graficos de performace\n",
   "id": "cbabe1d19f30558b"
  },
  {
   "metadata": {
    "ExecuteTime": {
     "end_time": "2024-09-10T14:44:40.827112Z",
     "start_time": "2024-09-10T14:44:40.560979Z"
    }
   },
   "cell_type": "code",
   "source": [
    "plt.style.use(\"cyberpunk\")\n",
    "plt.plot(dados_mercado[\"IBOVESPA\"])\n",
    "plt.savefig('ibovespa.png')"
   ],
   "id": "cbe70e42af8a806d",
   "outputs": [
    {
     "data": {
      "text/plain": [
       "<Figure size 640x480 with 1 Axes>"
      ],
      "image/png": "[encoded data removed]"
     },
     "metadata": {},
     "output_type": "display_data"
    }
   ],
   "execution_count": 35
  },
  {
   "metadata": {
    "ExecuteTime": {
     "end_time": "2024-09-10T14:44:41.137633Z",
     "start_time": "2024-09-10T14:44:40.919153Z"
    }
   },
   "cell_type": "code",
   "source": [
    "plt.style.use(\"cyberpunk\")\n",
    "plt.plot(dados_mercado[\"DOLLAR\"])\n",
    "plt.savefig('dollar.png')"
   ],
   "id": "b6920af045a620d4",
   "outputs": [
    {
     "data": {
      "text/plain": [
       "<Figure size 640x480 with 1 Axes>"
      ],
      "image/png": "[encoded data removed]"
     },
     "metadata": {},
     "output_type": "display_data"
    }
   ],
   "execution_count": 36
  },
  {
   "metadata": {
    "ExecuteTime": {
     "end_time": "2024-09-10T14:44:41.442302Z",
     "start_time": "2024-09-10T14:44:41.198125Z"
    }
   },
   "cell_type": "code",
   "source": [
    "plt.style.use(\"cyberpunk\")\n",
    "plt.plot(dados_mercado[\"S&P500\"])\n",
    "plt.savefig('sp500.png')"
   ],
   "id": "8fd178800541b466",
   "outputs": [
    {
     "data": {
      "text/plain": [
       "<Figure size 640x480 with 1 Axes>"
      ],
      "image/png": "[encoded data removed]"
     },
     "metadata": {},
     "output_type": "display_data"
    }
   ],
   "execution_count": 37
  },
  {
   "metadata": {
    "ExecuteTime": {
     "end_time": "2024-09-10T14:44:41.477137Z",
     "start_time": "2024-09-10T14:44:41.473939Z"
    }
   },
   "cell_type": "code",
   "source": "",
   "id": "40f4340a3ddfa78e",
   "outputs": [],
   "execution_count": null
  },
  {
   "metadata": {},
   "cell_type": "markdown",
   "source": "## Calculo de dados diarios\n",
   "id": "b38ca8612f9adf6e"
  },
  {
   "metadata": {
    "ExecuteTime": {
     "end_time": "2024-09-10T14:44:41.536371Z",
     "start_time": "2024-09-10T14:44:41.521412Z"
    }
   },
   "cell_type": "code",
   "source": [
    "retorno_diarios = dados_mercado.pct_change()\n",
    "retorno_diarios"
   ],
   "id": "f6a520adfa8ec8d2",
   "outputs": [
    {
     "data": {
      "text/plain": [
       "                             DOLLAR  IBOVESPA    S&P500\n",
       "Date                                                   \n",
       "2024-03-11 00:00:00+00:00       NaN       NaN       NaN\n",
       "2024-03-12 00:00:00+00:00 -0.000028  0.012242  0.011202\n",
       "2024-03-13 00:00:00+00:00 -0.001748  0.002647 -0.001925\n",
       "2024-03-14 00:00:00+00:00  0.000101 -0.002469 -0.002871\n",
       "2024-03-15 00:00:00+00:00  0.004729 -0.007424 -0.006483\n",
       "...                             ...       ...       ...\n",
       "2024-09-04 00:00:00+00:00  0.005770  0.013085 -0.001603\n",
       "2024-09-05 00:00:00+00:00 -0.000974  0.002873 -0.003018\n",
       "2024-09-06 00:00:00+00:00 -0.013205 -0.014139 -0.017260\n",
       "2024-09-09 00:00:00+00:00  0.005227  0.001226  0.011580\n",
       "2024-09-10 00:00:00+00:00  0.005253 -0.006926  0.000205\n",
       "\n",
       "[125 rows x 3 columns]"
      ],
      "text/html": [
       "<div>\n",
       "<style scoped>\n",
       "    .dataframe tbody tr th:only-of-type {\n",
       "        vertical-align: middle;\n",
       "    }\n",
       "\n",
       "    .dataframe tbody tr th {\n",
       "        vertical-align: top;\n",
       "    }\n",
       "\n",
       "    .dataframe thead th {\n",
       "        text-align: right;\n",
       "    }\n",
       "</style>\n",
       "<table border=\"1\" class=\"dataframe\">\n",
       "  <thead>\n",
       "    <tr style=\"text-align: right;\">\n",
       "      <th></th>\n",
       "      <th>DOLLAR</th>\n",
       "      <th>IBOVESPA</th>\n",
       "      <th>S&amp;P500</th>\n",
       "    </tr>\n",
       "    <tr>\n",
       "      <th>Date</th>\n",
       "      <th></th>\n",
       "      <th></th>\n",
       "      <th></th>\n",
       "    </tr>\n",
       "  </thead>\n",
       "  <tbody>\n",
       "    <tr>\n",
       "      <th>2024-03-11 00:00:00+00:00</th>\n",
       "      <td>NaN</td>\n",
       "      <td>NaN</td>\n",
       "      <td>NaN</td>\n",
       "    </tr>\n",
       "    <tr>\n",
       "      <th>2024-03-12 00:00:00+00:00</th>\n",
       "      <td>-0.000028</td>\n",
       "      <td>0.012242</td>\n",
       "      <td>0.011202</td>\n",
       "    </tr>\n",
       "    <tr>\n",
       "      <th>2024-03-13 00:00:00+00:00</th>\n",
       "      <td>-0.001748</td>\n",
       "      <td>0.002647</td>\n",
       "      <td>-0.001925</td>\n",
       "    </tr>\n",
       "    <tr>\n",
       "      <th>2024-03-14 00:00:00+00:00</th>\n",
       "      <td>0.000101</td>\n",
       "      <td>-0.002469</td>\n",
       "      <td>-0.002871</td>\n",
       "    </tr>\n",
       "    <tr>\n",
       "      <th>2024-03-15 00:00:00+00:00</th>\n",
       "      <td>0.004729</td>\n",
       "      <td>-0.007424</td>\n",
       "      <td>-0.006483</td>\n",
       "    </tr>\n",
       "    <tr>\n",
       "      <th>...</th>\n",
       "      <td>...</td>\n",
       "      <td>...</td>\n",
       "      <td>...</td>\n",
       "    </tr>\n",
       "    <tr>\n",
       "      <th>2024-09-04 00:00:00+00:00</th>\n",
       "      <td>0.005770</td>\n",
       "      <td>0.013085</td>\n",
       "      <td>-0.001603</td>\n",
       "    </tr>\n",
       "    <tr>\n",
       "      <th>2024-09-05 00:00:00+00:00</th>\n",
       "      <td>-0.000974</td>\n",
       "      <td>0.002873</td>\n",
       "      <td>-0.003018</td>\n",
       "    </tr>\n",
       "    <tr>\n",
       "      <th>2024-09-06 00:00:00+00:00</th>\n",
       "      <td>-0.013205</td>\n",
       "      <td>-0.014139</td>\n",
       "      <td>-0.017260</td>\n",
       "    </tr>\n",
       "    <tr>\n",
       "      <th>2024-09-09 00:00:00+00:00</th>\n",
       "      <td>0.005227</td>\n",
       "      <td>0.001226</td>\n",
       "      <td>0.011580</td>\n",
       "    </tr>\n",
       "    <tr>\n",
       "      <th>2024-09-10 00:00:00+00:00</th>\n",
       "      <td>0.005253</td>\n",
       "      <td>-0.006926</td>\n",
       "      <td>0.000205</td>\n",
       "    </tr>\n",
       "  </tbody>\n",
       "</table>\n",
       "<p>125 rows × 3 columns</p>\n",
       "</div>"
      ]
     },
     "execution_count": 38,
     "metadata": {},
     "output_type": "execute_result"
    }
   ],
   "execution_count": 38
  },
  {
   "metadata": {
    "ExecuteTime": {
     "end_time": "2024-09-10T14:44:41.613041Z",
     "start_time": "2024-09-10T14:44:41.607681Z"
    }
   },
   "cell_type": "code",
   "source": [
    "retorno_dollar= retorno_diarios[\"DOLLAR\"].iloc[-1]\n",
    "retorno_ibovespa = retorno_diarios[\"IBOVESPA\"].iloc[-1]\n",
    "retorno_sp500= retorno_diarios[\"S&P500\"].iloc[-1]\n"
   ],
   "id": "95be463bd7a27923",
   "outputs": [],
   "execution_count": 39
  },
  {
   "metadata": {
    "ExecuteTime": {
     "end_time": "2024-09-10T14:44:41.672366Z",
     "start_time": "2024-09-10T14:44:41.666800Z"
    }
   },
   "cell_type": "code",
   "source": [
    "retorno_dollar = str(round(retorno_dollar * 100, 2)) + \"%\"\n",
    "retorno_ibovespa = str(round(retorno_ibovespa * 100, 2)) + \"%\"\n",
    "retorno_sp500 = str(round(retorno_sp500 * 100, 2)) + \"%\""
   ],
   "id": "21454025b88a1a9c",
   "outputs": [],
   "execution_count": 40
  },
  {
   "metadata": {
    "ExecuteTime": {
     "end_time": "2024-09-10T14:44:41.746613Z",
     "start_time": "2024-09-10T14:44:41.743890Z"
    }
   },
   "cell_type": "code",
   "source": "",
   "id": "99caef70c243281c",
   "outputs": [],
   "execution_count": null
  },
  {
   "metadata": {
    "ExecuteTime": {
     "end_time": "2024-09-10T14:44:41.817306Z",
     "start_time": "2024-09-10T14:44:41.812945Z"
    }
   },
   "cell_type": "code",
   "source": "",
   "id": "3d7ec1bd5d9a71d0",
   "outputs": [],
   "execution_count": null
  },
  {
   "metadata": {},
   "cell_type": "markdown",
   "source": "# Enviando email \n",
   "id": "af4046d7483fc1be"
  },
  {
   "metadata": {
    "ExecuteTime": {
     "end_time": "2024-09-10T14:46:36.379402Z",
     "start_time": "2024-09-10T14:46:35.798845Z"
    }
   },
   "cell_type": "code",
   "source": "import win32com.client as win32 ",
   "id": "c7e13ce769a1069b",
   "outputs": [],
   "execution_count": 41
  },
  {
   "metadata": {
    "ExecuteTime": {
     "end_time": "2024-09-10T15:03:47.879700Z",
     "start_time": "2024-09-10T15:03:47.736287Z"
    }
   },
   "cell_type": "code",
   "source": [
    "outlook = win32.Dispatch(\"Outlook.Application\")\n",
    "email = outlook.CreateItem(0)\n",
    "email.To = \"evento@varos.com.br\"\n",
    "#email.To = \"pu4paf@gmail.com\"\n",
    "email.Subject = \"Relatório de Mercado\"\n",
    "email.Body = f'''Prezado diretor, segue o relatório de mercado:\n",
    "\n",
    "* O Ibovespa teve o retorno de {retorno_ibovespa}.\n",
    "* O Dólar teve o retorno de {retorno_dollar}.\n",
    "* O S&P500 teve o retorno de {retorno_sp500}.\n",
    "\n",
    "Segue em anexo a peformance dos ativos nos últimos 6 meses.\n",
    "\n",
    "Att,\n",
    "Melhor estagiário do mundo\n",
    "\n",
    "\n",
    "'''\n",
    "\n",
    "anexo_ibovespa = r\"C:\\laragon\\www\\Python\\relatorio_mercado\\ibovespa.png\"\n",
    "anexo_sp500 = r\"C:\\laragon\\www\\Python\\relatorio_mercado\\sp500.png\"\n",
    "anexo_dollar = r\"C:\\laragon\\www\\Python\\relatorio_mercado\\dollar.png\"\n",
    "\n",
    "email.Attachments.Add(anexo_ibovespa)\n",
    "email.Attachments.Add(anexo_sp500)\n",
    "email.Attachments.Add(anexo_dollar)\n",
    "email.Send()"
   ],
   "id": "6e903f941d115857",
   "outputs": [],
   "execution_count": 46
  },
  {
   "metadata": {},
   "cell_type": "code",
   "outputs": [],
   "execution_count": null,
   "source": "",
   "id": "185a368810ad7277"
  }
 ],
 "metadata": {
  "kernelspec": {
   "display_name": "Python 3",
   "language": "python",
   "name": "python3"
  },
  "language_info": {
   "codemirror_mode": {
    "name": "ipython",
    "version": 2
   },
   "file_extension": ".py",
   "mimetype": "text/x-python",
   "name": "python",
   "nbconvert_exporter": "python",
   "pygments_lexer": "ipython2",
   "version": "2.7.6"
  }
 },
 "nbformat": 4,
 "nbformat_minor": 5
}
